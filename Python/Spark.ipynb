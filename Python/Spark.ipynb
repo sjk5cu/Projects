{
 "cells": [
  {
   "cell_type": "code",
   "execution_count": 1,
   "id": "ad5b0aee-4c86-4ddb-897e-26ff588d6c25",
   "metadata": {},
   "outputs": [],
   "source": [
    "# !pip install pyspark"
   ]
  },
  {
   "cell_type": "code",
   "execution_count": 2,
   "id": "4162224d-22b5-4f8d-ae51-e32ff216359a",
   "metadata": {
    "scrolled": true
   },
   "outputs": [],
   "source": [
    "# !pip install findspark"
   ]
  },
  {
   "cell_type": "markdown",
   "id": "af6aa632-77d0-4b18-9319-e16b458eea98",
   "metadata": {},
   "source": [
    "# Finding and Starting Spark Session"
   ]
  },
  {
   "cell_type": "code",
   "execution_count": 1,
   "id": "faf08723-7e9b-42c6-b637-768b2b9bd57e",
   "metadata": {},
   "outputs": [
    {
     "data": {
      "text/plain": [
       "'/home/ubuntu/spark-3.3.1-bin-hadoop3'"
      ]
     },
     "execution_count": 1,
     "metadata": {},
     "output_type": "execute_result"
    }
   ],
   "source": [
    "import findspark\n",
    "findspark.init('/home/ubuntu/spark-3.3.1-bin-hadoop3')\n",
    "findspark.find()"
   ]
  },
  {
   "cell_type": "code",
   "execution_count": 2,
   "id": "5f155211-e0db-446e-ab2f-c962d1b1a59e",
   "metadata": {},
   "outputs": [
    {
     "name": "stderr",
     "output_type": "stream",
     "text": [
      "Setting default log level to \"WARN\".\n",
      "To adjust logging level use sc.setLogLevel(newLevel). For SparkR, use setLogLevel(newLevel).\n"
     ]
    },
    {
     "name": "stdout",
     "output_type": "stream",
     "text": [
      "24/02/27 20:27:43 WARN NativeCodeLoader: Unable to load native-hadoop library for your platform... using builtin-java classes where applicable\n"
     ]
    }
   ],
   "source": [
    "from pyspark.sql import SparkSession\n",
    "\n",
    "# The entry point into all functionality in Spark is the SparkSession class.\n",
    "spark = (SparkSession\n",
    "\t.builder\n",
    "\t.appName(\"DS5110\")\n",
    "\t.master(\"spark://172.31.47.226:7077\")\n",
    "\t.config(\"spark.executor.memory\", \"1024M\")\n",
    "\t.getOrCreate())"
   ]
  },
  {
   "cell_type": "markdown",
   "id": "735ad9ae-041c-4d58-a93e-4ac3b33a3e35",
   "metadata": {},
   "source": [
    "# Task 2"
   ]
  },
  {
   "cell_type": "code",
   "execution_count": 3,
   "id": "960fe49f-9655-452e-b920-f1fafe2c1fcb",
   "metadata": {},
   "outputs": [
    {
     "name": "stderr",
     "output_type": "stream",
     "text": [
      "                                                                                \r"
     ]
    }
   ],
   "source": [
    "df = spark.read.csv(\"hdfs://172.31.47.226:9000/export.csv\", header=True) # read in CSV and specify header column"
   ]
  },
  {
   "cell_type": "code",
   "execution_count": 4,
   "id": "c5e5c5ad-d9b6-439a-bb35-84e5a85e754b",
   "metadata": {},
   "outputs": [
    {
     "name": "stdout",
     "output_type": "stream",
     "text": [
      "+-------------+---------+----+----+-------------+---------+--------------------+--------+------------+--------+-----+---------+-------+----+-------------+\n",
      "|battery_level|c02_level|cca2|cca3|           cn|device_id|         device_name|humidity|          ip|latitude|  lcd|longitude|  scale|temp|    timestamp|\n",
      "+-------------+---------+----+----+-------------+---------+--------------------+--------+------------+--------+-----+---------+-------+----+-------------+\n",
      "|            8|      868|  US| USA|United States|        1|meter-gauge-1xbYRYcj|      51|68.161.225.1|      38|green|      -97|Celsius|  34|1458444054093|\n",
      "+-------------+---------+----+----+-------------+---------+--------------------+--------+------------+--------+-----+---------+-------+----+-------------+\n",
      "only showing top 1 row\n",
      "\n"
     ]
    }
   ],
   "source": [
    "df.show(n=1) "
   ]
  },
  {
   "cell_type": "code",
   "execution_count": 5,
   "id": "1e372ea3-d182-45b1-89d1-67f6df6c7ae9",
   "metadata": {},
   "outputs": [],
   "source": [
    "sorted_df = df.orderBy(['cca2','timestamp']) # sort by cca2 and then timestamp columns"
   ]
  },
  {
   "cell_type": "code",
   "execution_count": 6,
   "id": "609fe7c6-876d-400c-a497-867339798d62",
   "metadata": {},
   "outputs": [
    {
     "name": "stderr",
     "output_type": "stream",
     "text": [
      "                                                                                \r"
     ]
    }
   ],
   "source": [
    "sorted_df.write.format(\"csv\").mode(\"overwrite\").save(\"hdfs://172.31.47.226:9000/sorted_export.csv\") # Write the new CSV to HDFS"
   ]
  },
  {
   "cell_type": "code",
   "execution_count": 7,
   "id": "74b2cb57-a6a4-4e7d-ada2-e7ce85c70b3d",
   "metadata": {},
   "outputs": [],
   "source": [
    "spark.stop()"
   ]
  },
  {
   "cell_type": "markdown",
   "id": "6d2fa496-9bd8-4988-8ca5-931297a67cd4",
   "metadata": {},
   "source": [
    "# Part 3"
   ]
  },
  {
   "cell_type": "code",
   "execution_count": 8,
   "id": "50d857ac-e77b-46c1-b3d7-8fad24b7143d",
   "metadata": {},
   "outputs": [],
   "source": [
    "\"\"\"\n",
    "This is a skeleton of the PageRank algorithm.\n",
    "Feel free to use any piece of code in this provided skeleton source file.\n",
    "To use it, you will need to copy it into your Notebook. \n",
    "Feel free to make modifications to template code as you see fit.\n",
    "However, you are encouraged to implement the algorithm completely on\n",
    "your own. :-)\n",
    "\"\"\"\n",
    "import re\n",
    "import sys\n",
    "from operator import add\n",
    "from typing import Iterable, Tuple\n",
    "\n",
    "from pyspark.resultiterable import ResultIterable\n",
    "from pyspark.sql import SparkSession\n",
    "from pyspark.sql import Row"
   ]
  },
  {
   "cell_type": "code",
   "execution_count": 9,
   "id": "79349464-77de-425e-ad2b-1bc4009bffa9",
   "metadata": {},
   "outputs": [],
   "source": [
    "\"\"\"Helper function to calculates URL contributions to the rank of other URLs\"\"\"\n",
    "def calculateRankContrib(urls: ResultIterable[str], rank: float) -> Iterable[Tuple[str, float]]:\n",
    "    num_urls = len(urls)\n",
    "    for url in urls:\n",
    "        yield (url, rank / num_urls)\n",
    "\n",
    "\n",
    "\"\"\"Helper function to parses a urls string into urls pair\"\"\"\n",
    "def parseNeighborURLs(urls: str) -> Tuple[str, str]:\n",
    "    parts = re.split(r'\\s+', urls)\n",
    "    return parts[0], parts[1]"
   ]
  },
  {
   "cell_type": "code",
   "execution_count": 10,
   "id": "926fbf73-100b-42f0-8ce0-cd2cc9930b5e",
   "metadata": {},
   "outputs": [],
   "source": [
    "# Initialize the Spark context\n",
    "# TODO: You should define a new name for your PySpark PageRank program\n",
    "spark = (SparkSession.builder.appName(\"A2:PageRank\")\n",
    "    .master(\"spark://172.31.47.226:7077\")\n",
    "    .config(\"spark.executor.memory\", \"2048M\")\n",
    "    .getOrCreate())"
   ]
  },
  {
   "cell_type": "code",
   "execution_count": 11,
   "id": "78250e14-13c6-4769-86aa-0a6e59d6126b",
   "metadata": {},
   "outputs": [],
   "source": [
    "\"\"\"Hint: You want to use hash partitioning to optimize the performance of join\"\"\"\n",
    "\n",
    "# Loads in input file\n",
    "#     URL         neighbor URL\n",
    "#     URL         neighbor URL\n",
    "#     URL         neighbor URL\n",
    "#     ...\n",
    "linesRDD = spark.sparkContext.textFile(\"hdfs://172.31.47.226:9000/web-BerkStan.txt\")\n",
    "\n",
    "# Perform a transformation to define a links RDD by using parseNeighborURLs helper function\n",
    "linksRDD = linesRDD.map(lambda urls: parseNeighborURLs(urls)).distinct().groupByKey()\n",
    "\n",
    "# Initialize a ranks RDD\n",
    "ranksRDD = linksRDD.map(lambda url_neighbors: (url_neighbors[0], 1.0))"
   ]
  },
  {
   "cell_type": "markdown",
   "id": "bbbefe5c-4a0a-45c4-b139-f787c0cd9ead",
   "metadata": {},
   "source": [
    "## Task 1"
   ]
  },
  {
   "cell_type": "code",
   "execution_count": 12,
   "id": "399050c6-36b2-4f5e-8185-c095bb8a66c3",
   "metadata": {},
   "outputs": [],
   "source": [
    "# Calculates and updates URL ranks continuously using PageRank algorithm.\n",
    "# Replace N with a number ranging from 3 to 10\n",
    "# For A2 you are required to complete 10 iterations\n",
    "for iteration in range(10):\n",
    "    # TODO: Implement the PageRank algorithm here\n",
    "    contributions = linksRDD.join(ranksRDD).flatMap(lambda url_ranks: calculateRankContrib(url_ranks[1][0],url_ranks[1][1]))\n",
    "    # TODO: Implement the PageRank algorithm here\n",
    "    rankings = contributions.reduceByKey(add).mapValues(lambda rank: rank * .85 + .15)\n",
    "    # TODO: Implement the PageRank algorithm here\n",
    "  "
   ]
  },
  {
   "cell_type": "code",
   "execution_count": 13,
   "id": "c361ace1-3e24-47f6-a8f2-2f1813a27f09",
   "metadata": {},
   "outputs": [
    {
     "name": "stderr",
     "output_type": "stream",
     "text": [
      "                                                                                \r"
     ]
    }
   ],
   "source": [
    "top50 = rankings.sortBy(lambda x:x[1], ascending=False)\n",
    "result = top50.collect()"
   ]
  },
  {
   "cell_type": "code",
   "execution_count": 14,
   "id": "92264ec5-dbcd-481c-8b4d-8cf060732334",
   "metadata": {},
   "outputs": [
    {
     "data": {
      "text/plain": [
       "[('438238', 11204.5031607055),\n",
       " ('210305', 9147.30293301283),\n",
       " ('210376', 9145.288510073151),\n",
       " ('272919', 6118.621325703636),\n",
       " ('462728', 3598.24438766882),\n",
       " ('401873', 3498.760681150826),\n",
       " ('601656', 3001.397012691197),\n",
       " ('319209', 2868.521102053853),\n",
       " ('184094', 2822.3999148030284),\n",
       " ('768', 2813.674567064774),\n",
       " ('927', 2800.7505572428845),\n",
       " ('184142', 2796.237895715289),\n",
       " ('33', 2795.832629870022),\n",
       " ('184332', 2794.7931619074297),\n",
       " ('184279', 2794.777075216343),\n",
       " ('743', 2794.226231060499),\n",
       " ('299040', 2267.0635475952595),\n",
       " ('313077', 2260.1234864305825),\n",
       " ('284306', 1991.108832922676),\n",
       " ('299039', 1990.0520473848444),\n",
       " ('477985', 1708.4374936813435),\n",
       " ('479054', 1706.7801033799392),\n",
       " ('481959', 1706.7212418775919),\n",
       " ('477172', 1706.7212418775919),\n",
       " ('571448', 1591.835353914967),\n",
       " ('571447', 1590.7113612409744),\n",
       " ('571451', 1587.665527907641),\n",
       " ('570985', 1586.920428701292),\n",
       " ('451016', 1460.8509232687802),\n",
       " ('316792', 1331.529781463461),\n",
       " ('66244', 1312.835402646977),\n",
       " ('68949', 1312.8347645088388),\n",
       " ('68948', 1312.8268941384686),\n",
       " ('68946', 1312.8136387778445),\n",
       " ('95552', 1312.8136387778445),\n",
       " ('86237', 1312.8136387778445),\n",
       " ('68947', 1312.8136387778445),\n",
       " ('86239', 1312.8136387778445),\n",
       " ('77284', 1312.8136387778445),\n",
       " ('95551', 1312.8136387778445),\n",
       " ('86238', 1312.8136387778445),\n",
       " ('66909', 1312.8136387778445),\n",
       " ('96070', 1312.8136387778445),\n",
       " ('158750', 1184.287652634125),\n",
       " ('169579', 1166.3249076408088),\n",
       " ('168678', 1165.3118400079586),\n",
       " ('270625', 1127.022412300657),\n",
       " ('501481', 1119.1200891714896),\n",
       " ('502214', 1117.4628651455155),\n",
       " ('500928', 1117.4038373677377)]"
      ]
     },
     "execution_count": 14,
     "metadata": {},
     "output_type": "execute_result"
    }
   ],
   "source": [
    "result[:50]"
   ]
  },
  {
   "cell_type": "code",
   "execution_count": 15,
   "id": "a82dbaa3-6793-4f5c-a0f3-2c7a6d09973f",
   "metadata": {},
   "outputs": [],
   "source": [
    "schema = [\"URL\", \"Rank\"]\n",
    "rows = [Row(*data) for data in result]\n",
    "df1 = spark.createDataFrame(rows, schema=schema)"
   ]
  },
  {
   "cell_type": "code",
   "execution_count": 16,
   "id": "6d1cff83-bbda-4f0f-9af3-9b09656a0f29",
   "metadata": {},
   "outputs": [
    {
     "name": "stdout",
     "output_type": "stream",
     "text": [
      "24/02/27 20:35:49 WARN TaskSetManager: Stage 16 contains a task of very large size (2995 KiB). The maximum recommended task size is 1000 KiB.\n"
     ]
    },
    {
     "name": "stderr",
     "output_type": "stream",
     "text": [
      "                                                                                \r"
     ]
    }
   ],
   "source": [
    "df1.write.format(\"csv\").mode(\"overwrite\").save(\"hdfs://172.31.47.226:9000/result.csv\") # Write the new CSV to HDFS"
   ]
  },
  {
   "cell_type": "markdown",
   "id": "64faba5e-8f0f-4201-bcc5-29d6f7cafeaa",
   "metadata": {},
   "source": [
    "# Task 2"
   ]
  },
  {
   "cell_type": "code",
   "execution_count": 17,
   "id": "93a29c3b-be30-4898-b8cb-573580049880",
   "metadata": {},
   "outputs": [],
   "source": [
    "linesRDD2 = spark.sparkContext.textFile(\"hdfs://172.31.47.226:9000/web-BerkStan.txt\")\n",
    "\n",
    "# Perform a transformation to define a links RDD by using parseNeighborURLs helper function\n",
    "linksRDD2 = linesRDD2.map(lambda urls: parseNeighborURLs(urls)).distinct().groupByKey().partitionBy(10)\n",
    "\n",
    "# Initialize a ranks RDD\n",
    "ranksRDD2 = linksRDD2.map(lambda url_neighbors: (url_neighbors[0], 1.0))"
   ]
  },
  {
   "cell_type": "code",
   "execution_count": 18,
   "id": "80b729b9-c58a-4911-bd97-6c0797f0031e",
   "metadata": {},
   "outputs": [],
   "source": [
    "# Calculates and updates URL ranks continuously using PageRank algorithm.\n",
    "# Replace N with a number ranging from 3 to 10\n",
    "# For A2 you are required to complete 10 iterations\n",
    "for iteration in range(10):\n",
    "    # TODO: Implement the PageRank algorithm here\n",
    "    contributions2 = linksRDD2.join(ranksRDD2).flatMap(lambda url_ranks: calculateRankContrib(url_ranks[1][0],url_ranks[1][1]))\n",
    "    # TODO: Implement the PageRank algorithm here\n",
    "    rankings2 = contributions2.reduceByKey(add).mapValues(lambda rank: rank * .85 + .15)\n",
    "    # TODO: Implement the PageRank algorithm here"
   ]
  },
  {
   "cell_type": "code",
   "execution_count": 19,
   "id": "0dae79ff-ecda-4179-9efb-f3eebad314c8",
   "metadata": {},
   "outputs": [
    {
     "name": "stderr",
     "output_type": "stream",
     "text": [
      "                                                                                \r"
     ]
    }
   ],
   "source": [
    "top50_2 = rankings2.sortBy(lambda x:x[1], ascending=False)\n",
    "result2 = top50_2.collect()"
   ]
  },
  {
   "cell_type": "code",
   "execution_count": 20,
   "id": "ac99bc93-55ad-4b3d-95f9-b70bce0ad5d3",
   "metadata": {},
   "outputs": [
    {
     "data": {
      "text/plain": [
       "[('438238', 11204.503160706425),\n",
       " ('210305', 9147.30293301282),\n",
       " ('210376', 9145.288510073138),\n",
       " ('272919', 6118.621325703219),\n",
       " ('462728', 3598.24438766882),\n",
       " ('401873', 3498.760681150407),\n",
       " ('601656', 3001.3970126912077),\n",
       " ('319209', 2868.5211020538586),\n",
       " ('184094', 2822.3999148026323),\n",
       " ('768', 2813.674567064378),\n",
       " ('927', 2800.75055724249),\n",
       " ('184142', 2796.2378957148944),\n",
       " ('33', 2795.832629869629),\n",
       " ('184332', 2794.7931619070346),\n",
       " ('184279', 2794.7770752159486),\n",
       " ('743', 2794.226231060105),\n",
       " ('299040', 2267.063547595239),\n",
       " ('313077', 2260.123486430563),\n",
       " ('284306', 1991.1088329226423),\n",
       " ('299039', 1990.052047384811),\n",
       " ('477985', 1708.4374936813442),\n",
       " ('479054', 1706.78010337994),\n",
       " ('481959', 1706.7212418775928),\n",
       " ('477172', 1706.7212418775925),\n",
       " ('571448', 1591.835353914962),\n",
       " ('571447', 1590.711361240969),\n",
       " ('571451', 1587.665527907636),\n",
       " ('570985', 1586.9204287012867),\n",
       " ('451016', 1460.8509232688077),\n",
       " ('316792', 1331.5297814634596),\n",
       " ('66244', 1312.835402646961),\n",
       " ('68949', 1312.8347645088234),\n",
       " ('68948', 1312.8268941384524),\n",
       " ('96070', 1312.8136387778288),\n",
       " ('95551', 1312.8136387778288),\n",
       " ('86238', 1312.8136387778288),\n",
       " ('86239', 1312.8136387778288),\n",
       " ('95552', 1312.8136387778288),\n",
       " ('68947', 1312.8136387778288),\n",
       " ('86237', 1312.8136387778288),\n",
       " ('68946', 1312.8136387778286),\n",
       " ('77284', 1312.8136387778286),\n",
       " ('66909', 1312.8136387778286),\n",
       " ('158750', 1184.287652634135),\n",
       " ('169579', 1166.3249076408188),\n",
       " ('168678', 1165.3118400079684),\n",
       " ('270625', 1127.0224123006572),\n",
       " ('501481', 1119.1200891714896),\n",
       " ('502214', 1117.4628651455155),\n",
       " ('500928', 1117.4038373677379)]"
      ]
     },
     "execution_count": 20,
     "metadata": {},
     "output_type": "execute_result"
    }
   ],
   "source": [
    "result2[:50]"
   ]
  },
  {
   "cell_type": "markdown",
   "id": "55bea8df-436e-494c-8913-9921491760d6",
   "metadata": {},
   "source": [
    "## Task 3"
   ]
  },
  {
   "cell_type": "code",
   "execution_count": 21,
   "id": "3e4fc373-2ce3-489f-ba37-ba40910ea0d5",
   "metadata": {},
   "outputs": [],
   "source": [
    "linesRDD3 = spark.sparkContext.textFile(\"hdfs://172.31.47.226:9000/web-BerkStan.txt\")\n",
    "\n",
    "# Perform a transformation to define a links RDD by using parseNeighborURLs helper function\n",
    "linksRDD3 = linesRDD3.map(lambda urls: parseNeighborURLs(urls)).distinct().groupByKey()\n",
    "\n",
    "# Initialize a ranks RDD\n",
    "ranksRDD3 = linksRDD3.map(lambda url_neighbors: (url_neighbors[0], 1.0))"
   ]
  },
  {
   "cell_type": "code",
   "execution_count": 22,
   "id": "1c00663d-c6de-4ada-8951-71b659b9389c",
   "metadata": {},
   "outputs": [],
   "source": [
    "# Calculates and updates URL ranks continuously using PageRank algorithm.\n",
    "# Replace N with a number ranging from 3 to 10\n",
    "# For A2 you are required to complete 10 iterations\n",
    "for iteration in range(10):\n",
    "    # TODO: Implement the PageRank algorithm here\n",
    "    contributions3 = linksRDD3.join(ranksRDD3).flatMap(lambda url_ranks: calculateRankContrib(url_ranks[1][0],url_ranks[1][1]))\n",
    "    # TODO: Implement the PageRank algorithm here\n",
    "    rankings3 = contributions3.reduceByKey(add).mapValues(lambda rank: rank * .85 + .15)\n",
    "    # TODO: Implement the PageRank algorithm here"
   ]
  },
  {
   "cell_type": "markdown",
   "id": "2a910c95-02b6-4b51-8ad5-fbb5245b9d39",
   "metadata": {},
   "source": [
    "The below cell ranks the URLS by the 2nd item in the tuple (the ranking) in descending order and collects the results"
   ]
  },
  {
   "cell_type": "code",
   "execution_count": 23,
   "id": "d3bae448-77a8-42ff-9c64-f9cca0547d7f",
   "metadata": {},
   "outputs": [
    {
     "name": "stderr",
     "output_type": "stream",
     "text": [
      "[Stage 36:>                                                         (0 + 2) / 2]\r"
     ]
    },
    {
     "name": "stdout",
     "output_type": "stream",
     "text": [
      "24/02/27 20:45:11 ERROR TaskSchedulerImpl: Lost executor 0 on 172.31.47.25: worker lost\n",
      "24/02/27 20:45:11 WARN TaskSetManager: Lost task 1.0 in stage 36.0 (TID 158) (172.31.47.25 executor 0): ExecutorLostFailure (executor 0 exited caused by one of the running tasks) Reason: worker lost\n",
      "24/02/27 20:45:11 WARN TaskSetManager: Lost task 0.0 in stage 36.0 (TID 159) (172.31.47.25 executor 0): ExecutorLostFailure (executor 0 exited caused by one of the running tasks) Reason: worker lost\n"
     ]
    },
    {
     "name": "stderr",
     "output_type": "stream",
     "text": [
      "                                                                                \r"
     ]
    }
   ],
   "source": [
    "top50_3 = rankings3.sortBy(lambda x:x[1], ascending=False)\n",
    "result3 = top50_3.collect()"
   ]
  },
  {
   "cell_type": "code",
   "execution_count": 24,
   "id": "8bc92711-ab54-4aeb-930e-613e12fcb947",
   "metadata": {},
   "outputs": [
    {
     "data": {
      "text/plain": [
       "[('438238', 11204.503160705473),\n",
       " ('210305', 9147.302933012821),\n",
       " ('210376', 9145.288510073142),\n",
       " ('272919', 6118.621325703652),\n",
       " ('462728', 3598.24438766882),\n",
       " ('401873', 3498.760681150825),\n",
       " ('601656', 3001.397012691201),\n",
       " ('319209', 2868.521102053855),\n",
       " ('184094', 2822.3999148030257),\n",
       " ('768', 2813.674567064771),\n",
       " ('927', 2800.7505572428813),\n",
       " ('184142', 2796.2378957152855),\n",
       " ('33', 2795.8326298700194),\n",
       " ('184332', 2794.7931619074266),\n",
       " ('184279', 2794.7770752163397),\n",
       " ('743', 2794.2262310604956),\n",
       " ('299040', 2267.063547595262),\n",
       " ('313077', 2260.123486430585),\n",
       " ('284306', 1991.1088329226764),\n",
       " ('299039', 1990.052047384845),\n",
       " ('477985', 1708.437493681344),\n",
       " ('479054', 1706.7801033799396),\n",
       " ('481959', 1706.721241877592),\n",
       " ('477172', 1706.721241877592),\n",
       " ('571448', 1591.8353539149634),\n",
       " ('571447', 1590.711361240971),\n",
       " ('571451', 1587.6655279076374),\n",
       " ('570985', 1586.9204287012883),\n",
       " ('451016', 1460.8509232687784),\n",
       " ('316792', 1331.5297814634614),\n",
       " ('66244', 1312.8354026469706),\n",
       " ('68949', 1312.8347645088324),\n",
       " ('68948', 1312.8268941384622),\n",
       " ('95552', 1312.8136387778386),\n",
       " ('86237', 1312.8136387778386),\n",
       " ('68947', 1312.8136387778386),\n",
       " ('68946', 1312.8136387778386),\n",
       " ('86239', 1312.8136387778386),\n",
       " ('66909', 1312.8136387778386),\n",
       " ('86238', 1312.8136387778386),\n",
       " ('95551', 1312.8136387778386),\n",
       " ('77284', 1312.8136387778386),\n",
       " ('96070', 1312.8136387778386),\n",
       " ('158750', 1184.287652634125),\n",
       " ('169579', 1166.3249076408088),\n",
       " ('168678', 1165.3118400079586),\n",
       " ('270625', 1127.0224123006574),\n",
       " ('501481', 1119.1200891714893),\n",
       " ('502214', 1117.4628651455155),\n",
       " ('504070', 1117.4038373677374)]"
      ]
     },
     "execution_count": 24,
     "metadata": {},
     "output_type": "execute_result"
    }
   ],
   "source": [
    "result3[:50]"
   ]
  },
  {
   "cell_type": "code",
   "execution_count": 25,
   "id": "75bd10e8-48bd-4564-9dff-62b2495dedf4",
   "metadata": {},
   "outputs": [],
   "source": [
    "spark.stop()"
   ]
  },
  {
   "cell_type": "code",
   "execution_count": null,
   "id": "3b7b050a-ae06-45e3-af21-e50da1fe390a",
   "metadata": {},
   "outputs": [],
   "source": []
  }
 ],
 "metadata": {
  "kernelspec": {
   "display_name": "Python 3 (ipykernel)",
   "language": "python",
   "name": "python3"
  },
  "language_info": {
   "codemirror_mode": {
    "name": "ipython",
    "version": 3
   },
   "file_extension": ".py",
   "mimetype": "text/x-python",
   "name": "python",
   "nbconvert_exporter": "python",
   "pygments_lexer": "ipython3",
   "version": "3.10.12"
  }
 },
 "nbformat": 4,
 "nbformat_minor": 5
}
