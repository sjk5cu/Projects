{
 "cells": [
  {
   "cell_type": "code",
   "execution_count": 1,
   "metadata": {},
   "outputs": [],
   "source": [
    "import os\n",
    "import shutil"
   ]
  },
  {
   "cell_type": "code",
   "execution_count": 4,
   "metadata": {},
   "outputs": [],
   "source": [
    "path = \"/Users/stephenkullman/Desktop/archive/train/asl_alphabet_train/\""
   ]
  },
  {
   "cell_type": "code",
   "execution_count": 5,
   "metadata": {},
   "outputs": [
    {
     "name": "stdout",
     "output_type": "stream",
     "text": [
      ".DS_Store\n",
      "R\n",
      "U\n",
      "I\n",
      "N\n",
      "G\n",
      "Z\n",
      "T\n",
      "S\n",
      "A\n",
      "F\n",
      "O\n",
      "H\n",
      "del\n",
      "nothing\n",
      "space\n",
      "M\n",
      "J\n",
      "C\n",
      "D\n",
      "V\n",
      "Q\n",
      "X\n",
      "E\n",
      "B\n",
      "K\n",
      "L\n",
      "Y\n",
      "P\n",
      "W\n"
     ]
    }
   ],
   "source": [
    "for folder in os.listdir(path):\n",
    "    print(folder)"
   ]
  },
  {
   "cell_type": "code",
   "execution_count": 8,
   "metadata": {},
   "outputs": [],
   "source": [
    "folder_path = ''.join(path + folder)"
   ]
  },
  {
   "cell_type": "code",
   "execution_count": 9,
   "metadata": {},
   "outputs": [
    {
     "data": {
      "text/plain": [
       "'/Users/stephenkullman/Desktop/archive/train/asl_alphabet_train/W'"
      ]
     },
     "execution_count": 9,
     "metadata": {},
     "output_type": "execute_result"
    }
   ],
   "source": [
    "folder_path"
   ]
  },
  {
   "cell_type": "code",
   "execution_count": 10,
   "metadata": {},
   "outputs": [
    {
     "name": "stdout",
     "output_type": "stream",
     "text": [
      "Folder /Users/stephenkullman/Desktop/archive/train/asl_alphabet_train/.DS_Store doesn't exist.\n",
      "Processing files in /Users/stephenkullman/Desktop/archive/train/asl_alphabet_train/R...\n",
      "Processing files in /Users/stephenkullman/Desktop/archive/train/asl_alphabet_train/U...\n",
      "Processing files in /Users/stephenkullman/Desktop/archive/train/asl_alphabet_train/I...\n",
      "Processing files in /Users/stephenkullman/Desktop/archive/train/asl_alphabet_train/N...\n",
      "Processing files in /Users/stephenkullman/Desktop/archive/train/asl_alphabet_train/G...\n",
      "Processing files in /Users/stephenkullman/Desktop/archive/train/asl_alphabet_train/Z...\n",
      "Processing files in /Users/stephenkullman/Desktop/archive/train/asl_alphabet_train/T...\n",
      "Processing files in /Users/stephenkullman/Desktop/archive/train/asl_alphabet_train/S...\n",
      "Processing files in /Users/stephenkullman/Desktop/archive/train/asl_alphabet_train/A...\n",
      "Processing files in /Users/stephenkullman/Desktop/archive/train/asl_alphabet_train/F...\n",
      "Processing files in /Users/stephenkullman/Desktop/archive/train/asl_alphabet_train/O...\n",
      "Processing files in /Users/stephenkullman/Desktop/archive/train/asl_alphabet_train/H...\n",
      "Processing files in /Users/stephenkullman/Desktop/archive/train/asl_alphabet_train/del...\n",
      "Processing files in /Users/stephenkullman/Desktop/archive/train/asl_alphabet_train/nothing...\n",
      "Processing files in /Users/stephenkullman/Desktop/archive/train/asl_alphabet_train/space...\n",
      "Processing files in /Users/stephenkullman/Desktop/archive/train/asl_alphabet_train/M...\n",
      "Processing files in /Users/stephenkullman/Desktop/archive/train/asl_alphabet_train/J...\n",
      "Processing files in /Users/stephenkullman/Desktop/archive/train/asl_alphabet_train/C...\n",
      "Processing files in /Users/stephenkullman/Desktop/archive/train/asl_alphabet_train/D...\n",
      "Processing files in /Users/stephenkullman/Desktop/archive/train/asl_alphabet_train/V...\n",
      "Processing files in /Users/stephenkullman/Desktop/archive/train/asl_alphabet_train/Q...\n",
      "Processing files in /Users/stephenkullman/Desktop/archive/train/asl_alphabet_train/X...\n",
      "Processing files in /Users/stephenkullman/Desktop/archive/train/asl_alphabet_train/E...\n",
      "Processing files in /Users/stephenkullman/Desktop/archive/train/asl_alphabet_train/B...\n",
      "Processing files in /Users/stephenkullman/Desktop/archive/train/asl_alphabet_train/K...\n",
      "Processing files in /Users/stephenkullman/Desktop/archive/train/asl_alphabet_train/L...\n",
      "Processing files in /Users/stephenkullman/Desktop/archive/train/asl_alphabet_train/Y...\n",
      "Processing files in /Users/stephenkullman/Desktop/archive/train/asl_alphabet_train/P...\n",
      "Processing files in /Users/stephenkullman/Desktop/archive/train/asl_alphabet_train/W...\n"
     ]
    }
   ],
   "source": [
    "def keep_first_400_photos(folder):\n",
    "    # Get a list of all files in the folder\n",
    "    files = os.listdir(folder)\n",
    "\n",
    "    # Sort the files alphabetically\n",
    "    files.sort()\n",
    "\n",
    "    # Keep only the first 400 files\n",
    "    files_to_keep = files[:400]\n",
    "\n",
    "    # Create a temporary directory to move files\n",
    "    tmp_dir = os.path.join(folder, 'tmp')\n",
    "    os.makedirs(tmp_dir, exist_ok=True)\n",
    "\n",
    "    # Move files to the temporary directory\n",
    "    for file_to_keep in files_to_keep:\n",
    "        shutil.move(os.path.join(folder, file_to_keep), tmp_dir)\n",
    "\n",
    "    # Remove the remaining files\n",
    "    for file_to_remove in files[400:]:\n",
    "        os.remove(os.path.join(folder, file_to_remove))\n",
    "\n",
    "    # Move back the kept files from the temporary directory\n",
    "    for file_to_keep in files_to_keep:\n",
    "        shutil.move(os.path.join(tmp_dir, file_to_keep), folder)\n",
    "\n",
    "    # Remove the temporary directory\n",
    "    os.rmdir(tmp_dir)\n",
    "\n",
    "# Loop through folders A to Z\n",
    "for folder in os.listdir(path):\n",
    "    folder_path = ''.join(path + folder)\n",
    "    # Check if folder exists\n",
    "    if os.path.isdir(folder_path):\n",
    "        print(f\"Processing files in {folder_path}...\")\n",
    "        keep_first_400_photos(folder_path)\n",
    "    else:\n",
    "        print(f\"Folder {folder_path} doesn't exist.\")"
   ]
  },
  {
   "cell_type": "code",
   "execution_count": null,
   "metadata": {},
   "outputs": [],
   "source": []
  }
 ],
 "metadata": {
  "kernelspec": {
   "display_name": "base",
   "language": "python",
   "name": "python3"
  },
  "language_info": {
   "codemirror_mode": {
    "name": "ipython",
    "version": 3
   },
   "file_extension": ".py",
   "mimetype": "text/x-python",
   "name": "python",
   "nbconvert_exporter": "python",
   "pygments_lexer": "ipython3",
   "version": "3.10.9"
  }
 },
 "nbformat": 4,
 "nbformat_minor": 2
}
